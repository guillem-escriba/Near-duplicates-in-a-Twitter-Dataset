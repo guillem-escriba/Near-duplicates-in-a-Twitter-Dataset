{
 "cells": [
  {
   "cell_type": "markdown",
   "metadata": {},
   "source": [
    "# Practice Session 03: Find near-duplicates using shingling"
   ]
  },
  {
   "cell_type": "markdown",
   "metadata": {},
   "source": [
    "<font size=\"+2\" color=\"blue\">Additional results: various ngram sizes</font>\n",
    "\n",
    "Author: <font color=\"blue\">Guillem Escriba Molto</font>\n",
    "\n",
    "E-mail: <font color=\"blue\">guillem.escriba01@estudiant.upf.edu</font>\n",
    "\n",
    "Date: <font color=\"blue\">20/10/2022</font>"
   ]
  },
  {
   "cell_type": "code",
   "execution_count": 1,
   "metadata": {},
   "outputs": [],
   "source": [
    "import io\n",
    "import json\n",
    "import gzip\n",
    "import re\n",
    "import random\n",
    "import numpy as np\n",
    "import matplotlib.pyplot as plt\n",
    "from timeit import default_timer as timer\n",
    "import datetime"
   ]
  },
  {
   "cell_type": "code",
   "execution_count": 2,
   "metadata": {},
   "outputs": [
    {
     "name": "stdout",
     "output_type": "stream",
     "text": [
      "Read 10000 documents\n"
     ]
    }
   ],
   "source": [
    "# Input file\n",
    "INPUT_FILENAME = \"CovidLockdownCatalonia.json.gz\"\n",
    "\n",
    "# Array for storing messages\n",
    "messages = []\n",
    "MAX_MESSAGES = 10000\n",
    "\n",
    "with gzip.open(INPUT_FILENAME, \"rt\", encoding=\"utf-8\") as input_file:\n",
    "    \n",
    "    messages_read = 0\n",
    "    for line in input_file:\n",
    "            \n",
    "        # Read message\n",
    "        tweet = json.loads(line)\n",
    "\n",
    "        # Keep only messages in Catalan\n",
    "        if tweet[\"lang\"] == \"ca\":\n",
    "            \n",
    "            messages_read += 1\n",
    "            \n",
    "            if messages_read <= MAX_MESSAGES:\n",
    "                author = tweet[\"user\"][\"screen_name\"]\n",
    "                message = tweet[\"full_text\"]\n",
    "                messages.append(message)\n",
    "\n",
    "print(\"Read %d documents\" % len(messages))"
   ]
  },
  {
   "cell_type": "markdown",
   "metadata": {},
   "source": [
    "# 1. Auxiliary functions"
   ]
  },
  {
   "cell_type": "code",
   "execution_count": 3,
   "metadata": {},
   "outputs": [],
   "source": [
    "def jaccard_similarity(set1, set2):\n",
    "    if(len(set1)==0 or len(set2) == 0): # Checks if there is an empty set to avoid division by 0\n",
    "        return 0\n",
    "    set1 = set(set1) # Transform lists to sets\n",
    "    set2 = set(set2)\n",
    "    jaccard_coeff = len(set1.intersection(set2))/len(set1.union(set2)) # Compute Jaccard Coefficient\n",
    "    return jaccard_coeff\n"
   ]
  },
  {
   "cell_type": "code",
   "execution_count": 4,
   "metadata": {},
   "outputs": [
    {
     "name": "stdout",
     "output_type": "stream",
     "text": [
      "0.6666666666666666\n",
      "0.6666666666666666\n",
      "0.75\n",
      "0.75\n",
      "1.0\n",
      "1.0\n",
      "0.0\n",
      "0.0\n"
     ]
    }
   ],
   "source": [
    "set1 = {1,2,3}\n",
    "set2 = {1,2}\n",
    "print(jaccard_similarity(set1,set2))\n",
    "set1 = {1,2,4,7}\n",
    "set2 = {1,2,4,5,7,8}\n",
    "print(jaccard_similarity(set1,set2))\n",
    "set1 = {1,2,3}\n",
    "set2 = {1,2,3,4}\n",
    "print(jaccard_similarity(set1,set2))\n",
    "set1 = {1,2,3,4,5,6}\n",
    "set2 = {1,2,3,4,5,6,8,9}\n",
    "print(jaccard_similarity(set1,set2))\n",
    "set1 = {1,2,3}\n",
    "set2 = {1,2,3}\n",
    "print(jaccard_similarity(set1,set2))\n",
    "set1 = {1,2,3,4,5,6}\n",
    "set2 = {1,2,3,4,5,6}\n",
    "print(jaccard_similarity(set1,set2))\n",
    "set1 = {1,2,3}\n",
    "set2 = {4,5,6,7}\n",
    "print(jaccard_similarity(set1,set2))\n",
    "set1 = {1}\n",
    "set2 = {0}\n",
    "print(jaccard_similarity(set1,set2))\n",
    "\n"
   ]
  },
  {
   "cell_type": "code",
   "execution_count": 5,
   "metadata": {},
   "outputs": [],
   "source": [
    "def clean(message):\n",
    "    \n",
    "    message = message.replace('RT','',1) # Deletes the first RT\n",
    "    \n",
    "    message = message.lower() # Converts to lowercase\n",
    "    \n",
    "    # Romanizes the text\n",
    "    message = message.replace('à','a')\n",
    "    message = message.replace('á','a')\n",
    "    message = message.replace('è','e')\n",
    "    message = message.replace('é','e')\n",
    "    message = message.replace('í','i')\n",
    "    message = message.replace('ò','ò')\n",
    "    message = message.replace('ó','ó')\n",
    "    message = message.replace('ú','u')\n",
    "    message = message.replace('ç','c')\n",
    "    message = message.replace('l·l','ll')\n",
    "    message = message.replace('ñ','n')\n",
    "    \n",
    "    # Removes the URLs\n",
    "    message = re.sub('http://\\S+|https://\\S+', '', message)\n",
    "    \n",
    "    # Removes the spaces at the start and the end of the message\n",
    "    message = message.strip()\n",
    "    \n",
    "    # Removes anything that is neither a letter nor a number\n",
    "    message = re.sub(r\"[^A-Za-z0-9 ]\",\"\", message)\n",
    "    \n",
    "    # Replaces double spaces by single spaces\n",
    "    message = message.replace('  ',' ')\n",
    "    \n",
    "    return message"
   ]
  },
  {
   "cell_type": "code",
   "execution_count": 6,
   "metadata": {},
   "outputs": [
    {
     "name": "stdout",
     "output_type": "stream",
     "text": [
      "aaeeiucllnhttphttps ayer cene macarrones \n"
     ]
    }
   ],
   "source": [
    "test =  \"  RT   @àáéèíòóúçl·lñhttphttps#|@~#@ Ayer cené  macarrones. https://docs.python.org/3/library/re.html#re.sub .  \"\n",
    "print(clean(test))"
   ]
  },
  {
   "cell_type": "markdown",
   "metadata": {},
   "source": [
    "# 2. Implement an n-gram extractor"
   ]
  },
  {
   "cell_type": "code",
   "execution_count": 7,
   "metadata": {},
   "outputs": [],
   "source": [
    "def ngrams(text, size):\n",
    "    MIN_TOKEN_LENGTH = 2 # Defines the minimum size of a word to become a ngram\n",
    "    temp = clean(text).split() # Splits the message in a list of words in a temporal list\n",
    "    tokens = [] \n",
    "    ngrams = []\n",
    "    # Skip the tokens whose length is smaller than MIN_TOKEN_LENGTH\n",
    "    for i in range(len(temp)):\n",
    "        if(len(temp[i])>=MIN_TOKEN_LENGTH):\n",
    "            tokens.append(temp[i])\n",
    "    # Create the ngrams list\n",
    "    for i in range(len(tokens)-size+1): # Iterates through all the tokens\n",
    "        temp = [tokens[j] for j in range(i,i+size)] # Combines tokens to make n-grams\n",
    "        ngrams.append(\" \".join(temp)) # Adds a space between tokens\n",
    "        \n",
    "    return ngrams"
   ]
  },
  {
   "cell_type": "code",
   "execution_count": 8,
   "metadata": {
    "scrolled": true
   },
   "outputs": [
    {
     "name": "stdout",
     "output_type": "stream",
     "text": [
      "RT @diariARA: Comerciants xinesos donen mascaretes i gel antisèptic a Badalona per lluitar contra el coronavirus https://t.co/ybYXFxphIu\n",
      "['diariara comerciants', 'comerciants xinesos', 'xinesos donen', 'donen mascaretes', 'mascaretes gel', 'gel antiseptic', 'antiseptic badalona', 'badalona per', 'per lluitar', 'lluitar contra', 'contra el', 'el coronavirus']\n"
     ]
    }
   ],
   "source": [
    "print(messages[9780])\n",
    "print(ngrams(messages[9780], 2))"
   ]
  },
  {
   "cell_type": "markdown",
   "metadata": {},
   "source": [
    "# 3. Estimation for brute force method"
   ]
  },
  {
   "cell_type": "code",
   "execution_count": 9,
   "metadata": {},
   "outputs": [],
   "source": [
    "# LEAVE AS-IS\n",
    "\n",
    "def time_brute_force_similarities(messages, limit, ngram_size):\n",
    "    if limit > len(messages):\n",
    "        raise ValueError(\"Limit should be less than or equal than the number of messages\")\n",
    "        \n",
    "    # Start a timer\n",
    "    start = timer()\n",
    "\n",
    "    # Iterate through document identifiers\n",
    "    for docid1 in range(np.min([len(messages), limit])):\n",
    "\n",
    "        # Clean document 1 and extract ngrams\n",
    "        doc1 = clean(messages[docid1])\n",
    "        ngrams1 = ngrams(doc1, ngram_size)\n",
    "\n",
    "        # Iterate through document identifiers larger than doc2\n",
    "        for docid2 in range(docid1+1, np.min([len(messages), limit])):\n",
    "                         \n",
    "            # Clean document 2 and extract ngrams\n",
    "            doc2 = clean(messages[docid2])\n",
    "            ngrams2 = ngrams(doc2, ngram_size)\n",
    "\n",
    "            # Compute similarity\n",
    "            similarity = jaccard_similarity(ngrams1, ngrams2)\n",
    "\n",
    "    end = timer()\n",
    "    return(end - start)"
   ]
  },
  {
   "cell_type": "code",
   "execution_count": 10,
   "metadata": {},
   "outputs": [],
   "source": [
    "x = []\n",
    "y = []\n",
    "ngram_size = 3\n",
    "for limit in range(1,2001,150):\n",
    "    y.append(time_brute_force_similarities(messages, limit, ngram_size))\n",
    "    x.append(limit)\n",
    "\n"
   ]
  },
  {
   "cell_type": "code",
   "execution_count": 11,
   "metadata": {},
   "outputs": [
    {
     "data": {
      "image/png": "[encoded data removed]",
      "text/plain": [
       "<Figure size 432x288 with 1 Axes>"
      ]
     },
     "metadata": {
      "needs_background": "light"
     },
     "output_type": "display_data"
    }
   ],
   "source": [
    "plt.plot(x,y)\n",
    "plt.xlabel(xlabel='Limit of messages')\n",
    "plt.ylabel(ylabel='Estimated time (s)')\n",
    "plt.title(\"Estimated time for x messages\", fontsize = 13.0)\n",
    "plt.show()"
   ]
  },
  {
   "cell_type": "code",
   "execution_count": 12,
   "metadata": {},
   "outputs": [
    {
     "data": {
      "text/plain": [
       "1206.5665391999999"
      ]
     },
     "execution_count": 12,
     "metadata": {},
     "output_type": "execute_result"
    }
   ],
   "source": [
    "limit = 10000\n",
    "ngram_size = 3\n",
    "time_brute_force_similarities(messages, limit, ngram_size)"
   ]
  },
  {
   "cell_type": "code",
   "execution_count": 13,
   "metadata": {},
   "outputs": [
    {
     "name": "stdout",
     "output_type": "stream",
     "text": [
      "The time required would be 0h 20min and 23s (1223s) to compute the entire matrix of 10000 messages.\n"
     ]
    }
   ],
   "source": [
    "n = len(x)\n",
    "n_messages = x[n-1]\n",
    "time_spent = y[n-1]\n",
    "max_messages = 10000\n",
    "# Since we are creating a matrix with shape n_messages x n_messages we are working with n^2\n",
    "estimated_time = int((max_messages**2/n_messages**2)*time_spent)\n",
    "# Time calculations\n",
    "temp = estimated_time\n",
    "hours = int(temp/3600)\n",
    "temp -= hours*3600\n",
    "minutes = int(temp/60)\n",
    "seconds = int(temp - minutes*60)\n",
    "print(\"The time required would be {}h {}min and {}s ({}s) to compute the entire matrix of {} messages.\".format(hours,minutes,seconds,estimated_time,max_messages))"
   ]
  },
  {
   "cell_type": "markdown",
   "metadata": {},
   "source": [
    "<font size=\"+1\">With only this graph we cannot be sure of how much time it will take to compute the full matrix. As we can see in the plot, it follows some kind of quadratic function. If we look at the function \"time_brute_force_similarities\" it seems to have a complexity of O(n^2) which reinforce our previous hypothesis that the plot follows some kinde of quadratic function. In the cells of above we can see the time spent by brute force, 1230'542 seconds and our approximation, 1251 seconds or 20 minutes and 51 seconds which is very close to the exact result so we can conclude it follows a quadratic function that would be approximately  Constant*Number_of_Messages^2. </font>"
   ]
  },
  {
   "cell_type": "markdown",
   "metadata": {},
   "source": [
    "# 4. Computing the doc-ngram matrix"
   ]
  },
  {
   "cell_type": "markdown",
   "metadata": {},
   "source": [
    "## 4.1 Create list of all ngrams"
   ]
  },
  {
   "cell_type": "code",
   "execution_count": 14,
   "metadata": {},
   "outputs": [
    {
     "name": "stdout",
     "output_type": "stream",
     "text": [
      "There are 67090 distinct ngrams in the 10000 documents\n"
     ]
    }
   ],
   "source": [
    "NGRAM_SIZE = 3\n",
    "\n",
    "ngram_to_index = {}\n",
    "index_to_ngram = {}\n",
    "next_index = 0\n",
    "\n",
    "for message in messages: # Iterates through all messages\n",
    "    all_ngrams = ngrams(message, NGRAM_SIZE) # Creates all the ngrams of that document(message)\n",
    "    for ngram in all_ngrams: # Iterates through all ngrams\n",
    "        if(ngram not in ngram_to_index): # If it is not included in the dictionary \n",
    "            ngram_to_index[ngram] = next_index # We add the ngram to the dict\n",
    "            index_to_ngram[next_index] = ngram # Inverse dict\n",
    "            next_index += 1 # Count the number of ngrams\n",
    "        \n",
    "num_distinct_ngrams = next_index\n",
    "\n",
    "print(\"There are %d distinct ngrams in the %d documents\" % (num_distinct_ngrams, len(messages)))"
   ]
  },
  {
   "cell_type": "code",
   "execution_count": 15,
   "metadata": {},
   "outputs": [
    {
     "name": "stdout",
     "output_type": "stream",
     "text": [
      "940\n",
      "34\n",
      "tancat escoles fins\n",
      "garantir la seguretat\n"
     ]
    }
   ],
   "source": [
    "ind1 = ngram_to_index[\"tancat escoles fins\"]\n",
    "ind2 = ngram_to_index[\"garantir la seguretat\"]\n",
    "print(ind1)\n",
    "print(ind2)\n",
    "print(index_to_ngram[ind1])\n",
    "print(index_to_ngram[ind2])\n"
   ]
  },
  {
   "cell_type": "markdown",
   "metadata": {},
   "source": [
    "## 2.2 Create table ngrams x documents"
   ]
  },
  {
   "cell_type": "code",
   "execution_count": 16,
   "metadata": {},
   "outputs": [
    {
     "name": "stdout",
     "output_type": "stream",
     "text": [
      "Matrix dimensions: 67090 rows (distinct shingles) x 10000 columns (distinct documents)\n"
     ]
    }
   ],
   "source": [
    "# LEAVE AS-IS\n",
    "\n",
    "# Create dense matrix in which every cell contains the value \"False\"\n",
    "M_ngram_doc = np.full((num_distinct_ngrams, len(messages)), False)\n",
    "\n",
    "# Print the number of rows and columns of this matrix\n",
    "# numpy.matrix.shape is a tuple, shape[0] is the number of rows, shape[1] the number of columns\n",
    "print(\"Matrix dimensions: %d rows (distinct shingles) x %d columns (distinct documents)\" % M_ngram_doc.shape)"
   ]
  },
  {
   "cell_type": "code",
   "execution_count": 17,
   "metadata": {},
   "outputs": [],
   "source": [
    "ngram_size = 3\n",
    "for docid in range(len(messages)): # Iterate through all docs\n",
    "    message = messages[docid] \n",
    "    all_ngrams = ngrams(message, ngram_size)\n",
    "    for ngram in all_ngrams: # Iterates through all ngrams\n",
    "        if(ngram in ngram_to_index): # If the engram is in the dict\n",
    "            ngram_id = ngram_to_index[ngram] # We find the ngram id\n",
    "            M_ngram_doc[ngram_id][docid] = True # If the shingle is in the message M_ngram_doc = true\n",
    "        else:\n",
    "            M_ngram_doc[ngram_id][docid] = False\n",
    "            \n"
   ]
  },
  {
   "cell_type": "code",
   "execution_count": 18,
   "metadata": {},
   "outputs": [
    {
     "name": "stdout",
     "output_type": "stream",
     "text": [
      "Density of matrix: 0.00023%\n"
     ]
    }
   ],
   "source": [
    "print(\"Density of matrix: {}%\".format(round(sum(sum(M_ngram_doc))/(M_ngram_doc.shape[0]*M_ngram_doc.shape[1]),5)))"
   ]
  },
  {
   "cell_type": "code",
   "execution_count": 19,
   "metadata": {},
   "outputs": [
    {
     "name": "stdout",
     "output_type": "stream",
     "text": [
      "3\n",
      "2\n"
     ]
    }
   ],
   "source": [
    "print(sum(M_ngram_doc[9602]))\n",
    "print(sum(M_ngram_doc[941]))"
   ]
  },
  {
   "cell_type": "markdown",
   "metadata": {},
   "source": [
    "# 3. Implement a permutation generator"
   ]
  },
  {
   "cell_type": "code",
   "execution_count": 20,
   "metadata": {},
   "outputs": [
    {
     "name": "stdout",
     "output_type": "stream",
     "text": [
      "[30, 10, 1, 20, 7, 72, 62, 31, 9, 65, 42, 78, 19, 38, 58, 66, 4, 46, 60, 77, 64, 6, 59, 81, 32, 52, 69, 41, 61, 12, 87, 51, 75, 29, 47, 50, 28, 2, 48, 21, 89, 40, 68, 43, 11, 26, 54, 34, 97, 35, 15, 17, 55, 3, 90, 76, 16, 95, 45, 84, 94, 37, 80, 67, 36, 8, 96, 56, 24, 74, 13, 71, 63, 85, 91, 23, 0, 92, 14, 73, 70, 27, 88, 57, 39, 49, 82, 25, 18, 44, 33, 53, 22, 93, 83, 79, 86, 5]\n"
     ]
    }
   ],
   "source": [
    "def random_permutation(k):\n",
    "    x = list(range(0,k)) # Creates an array of 0,1,...,k-1 \n",
    "    random.shuffle(x) # It disorder the numbers\n",
    "    return x\n",
    "print(random_permutation(98))\n",
    "    \n",
    "    "
   ]
  },
  {
   "cell_type": "code",
   "execution_count": 21,
   "metadata": {},
   "outputs": [
    {
     "name": "stdout",
     "output_type": "stream",
     "text": [
      "Test one permutation:\n",
      "['1 (ek)', '3 (tīn)', '4 (chār)', '2 (do)', '5 (pāṅc)']\n",
      "['1 (jedan)', '3 (tri)', '4 (četiri)', '2 (dva)', '5 (pet)']\n",
      "\n",
      "Test another permutation\n",
      "['4 (chār)', '2 (do)', '5 (pāṅc)', '3 (tīn)', '1 (ek)']\n",
      "['4 (četiri)', '2 (dva)', '5 (pet)', '3 (tri)', '1 (jedan)']\n"
     ]
    }
   ],
   "source": [
    "# LEAVE AS-IS\n",
    "\n",
    "# Permute a list according to a permutation\n",
    "def permuter(original_list, permutation):\n",
    "    permuted_list = []\n",
    "    for index in permutation:\n",
    "        permuted_list.append(original_list[index])\n",
    "    return permuted_list\n",
    "\n",
    "# Code for testing permutations\n",
    "original_list_1 = [\"1 (ek)\", \"2 (do)\", \"3 (tīn)\", \"4 (chār)\", \"5 (pāṅc)\"]\n",
    "original_list_2 = [\"1 (jedan)\", \"2 (dva)\", \"3 (tri)\", \"4 (četiri)\", \"5 (pet)\"]\n",
    "\n",
    "print(\"Test one permutation:\")\n",
    "permutation_1 = random_permutation(5)\n",
    "print(permuter(original_list_1, permutation_1))\n",
    "print(permuter(original_list_2, permutation_1))\n",
    "\n",
    "print()\n",
    "\n",
    "print(\"Test another permutation\")\n",
    "permutation_2 = random_permutation(5)\n",
    "print(permuter(original_list_1, permutation_2))\n",
    "print(permuter(original_list_2, permutation_2))"
   ]
  },
  {
   "cell_type": "markdown",
   "metadata": {},
   "source": [
    "# 4. Compute the signature of each document"
   ]
  },
  {
   "cell_type": "code",
   "execution_count": 34,
   "metadata": {},
   "outputs": [
    {
     "name": "stdout",
     "output_type": "stream",
     "text": [
      "Permutation 0: 37297, 21409, 49413, ...\n",
      "Permutation 1: 60243, 47863, 11370, ...\n",
      "Permutation 2: 22658, 2383, 61232, ...\n",
      "Permutation 3: 30839, 35740, 31448, ...\n",
      "Permutation 4: 54372, 38390, 21605, ...\n"
     ]
    }
   ],
   "source": [
    "# Leave this code as-is\n",
    "\n",
    "NUM_PERMUTATIONS = 5\n",
    "\n",
    "permutations = []\n",
    "\n",
    "# Create the permutations\n",
    "for i in range(NUM_PERMUTATIONS):\n",
    "    permutation = random_permutation(num_distinct_ngrams)\n",
    "    permutations.append(random_permutation(num_distinct_ngrams))\n",
    "    \n",
    "# Visualize the permutations by printing their first 3 elements\n",
    "for i in range(len(permutations)):\n",
    "    permutation = permutations[i]\n",
    "    print(\"Permutation %d: %d, %d, %d, ...\" % (i, permutation[0], permutation[1], permutation[2] ))"
   ]
  },
  {
   "cell_type": "code",
   "execution_count": 35,
   "metadata": {},
   "outputs": [
    {
     "name": "stdout",
     "output_type": "stream",
     "text": [
      "Creating signatures for permutation 1/5\n",
      "- Scanning document 0 of 10000\n",
      "- Scanning document 1000 of 10000\n",
      "- Scanning document 2000 of 10000\n",
      "- Scanning document 3000 of 10000\n",
      "- Scanning document 4000 of 10000\n",
      "- Scanning document 5000 of 10000\n",
      "- Scanning document 6000 of 10000\n",
      "- Scanning document 7000 of 10000\n",
      "- Scanning document 8000 of 10000\n",
      "- Scanning document 9000 of 10000\n",
      "Creating signatures for permutation 2/5\n",
      "- Scanning document 0 of 10000\n",
      "- Scanning document 1000 of 10000\n",
      "- Scanning document 2000 of 10000\n",
      "- Scanning document 3000 of 10000\n",
      "- Scanning document 4000 of 10000\n",
      "- Scanning document 5000 of 10000\n",
      "- Scanning document 6000 of 10000\n",
      "- Scanning document 7000 of 10000\n",
      "- Scanning document 8000 of 10000\n",
      "- Scanning document 9000 of 10000\n",
      "Creating signatures for permutation 3/5\n",
      "- Scanning document 0 of 10000\n",
      "- Scanning document 1000 of 10000\n",
      "- Scanning document 2000 of 10000\n",
      "- Scanning document 3000 of 10000\n",
      "- Scanning document 4000 of 10000\n",
      "- Scanning document 5000 of 10000\n",
      "- Scanning document 6000 of 10000\n",
      "- Scanning document 7000 of 10000\n",
      "- Scanning document 8000 of 10000\n",
      "- Scanning document 9000 of 10000\n",
      "Creating signatures for permutation 4/5\n",
      "- Scanning document 0 of 10000\n",
      "- Scanning document 1000 of 10000\n",
      "- Scanning document 2000 of 10000\n",
      "- Scanning document 3000 of 10000\n",
      "- Scanning document 4000 of 10000\n",
      "- Scanning document 5000 of 10000\n",
      "- Scanning document 6000 of 10000\n",
      "- Scanning document 7000 of 10000\n",
      "- Scanning document 8000 of 10000\n",
      "- Scanning document 9000 of 10000\n",
      "Creating signatures for permutation 5/5\n",
      "- Scanning document 0 of 10000\n",
      "- Scanning document 1000 of 10000\n",
      "- Scanning document 2000 of 10000\n",
      "- Scanning document 3000 of 10000\n",
      "- Scanning document 4000 of 10000\n",
      "- Scanning document 5000 of 10000\n",
      "- Scanning document 6000 of 10000\n",
      "- Scanning document 7000 of 10000\n",
      "- Scanning document 8000 of 10000\n",
      "- Scanning document 9000 of 10000\n"
     ]
    }
   ],
   "source": [
    "M_signature_doc = np.full((NUM_PERMUTATIONS, len(messages)), np.nan)\n",
    "\n",
    "# Find the first ngram in a document, according to a permutation\n",
    "def find_first_one(docid, permutation):\n",
    "    for shingle_id in permutation:\n",
    "        if M_ngram_doc[shingle_id, docid] == True: # If the shingle is in the message (M_ngram_doc == true) we return the shingle id\n",
    "            return shingle_id\n",
    "    return -1\n",
    "\n",
    "# Create permutations\n",
    "for permutation_num in range(NUM_PERMUTATIONS):\n",
    "    print(\"Creating signatures for permutation %d/%d\" % (permutation_num+1, NUM_PERMUTATIONS))\n",
    "    permutation = permutations[permutation_num]\n",
    "    for docid in range(len(messages)):\n",
    "        if docid % 1000 == 0:\n",
    "            print(\"- Scanning document %d of %d\" % (docid, len(messages)))\n",
    "        M_signature_doc[permutation_num,docid] = int(find_first_one(docid,permutation)) # Adds a succesion of shingles to make a signature of size NUM_PERMUTATIONS\n",
    "        "
   ]
  },
  {
   "cell_type": "code",
   "execution_count": 37,
   "metadata": {},
   "outputs": [
    {
     "name": "stdout",
     "output_type": "stream",
     "text": [
      "Document #385\n",
      "Message       : RT @gencat: 🔴 El @govern de la @gencat anuncia el #confinament de tot Catalunya.\n",
      "\n",
      "Davant l’emergència de la #COVID19, el missatge és clau:…\n",
      "Clean message : gencat el govern de la gencat anuncia el confinament de tot catalunyadavant lemergencia de la covid19 el missatge es clau\n",
      "Ngrams        : [62, 3337, 3463, 4108, 4914, 4915, 4916, 4917, 4918, 4919, 4920, 4921, 4922, 4923, 4924, 4925, 4926, 4927]\n",
      "Signature     : [4922.0, 4108.0, 4918.0, 4917.0, 4921.0]\n",
      "\n",
      "Document #627\n",
      "Message       : PROCICAT_CORONAVIRUS. El @govern de la @gencat anuncia el #confinament de tot Catalunya. Davant l’emergència de la #COVID19, el missatge és clau: limitar la mobilitat ajudarà a evitar la propagació del #coronavirus. Evitem desplaçaments i reduïm la vida social #JoEmQuedoACasa\n",
      "Clean message : procicatcoronavirus el govern de la gencat anuncia el confinament de tot catalunya davant lemergencia de la covid19 el missatge es clau limitar la mobilitat ajudara a evitar la propagaci del coronavirus evitem desplacaments i redum la vida social joemquedoacasa\n",
      "Ngrams        : [62, 3337, 3463, 4108, 4914, 4915, 4916, 4917, 4918, 4919, 4920, 4921, 4922, 4923, 4924, 4925, 4926, 4927]\n",
      "Signature     : [236.0, 4108.0, 4918.0, 4917.0, 4923.0]\n"
     ]
    }
   ],
   "source": [
    "# Leave this code as-is\n",
    "\n",
    "def extract_ngrams(docid):\n",
    "    return [x for x in range(num_distinct_ngrams) if M_ngram_doc[x, i] == True]\n",
    "\n",
    "def extract_signature(docid):\n",
    "    return [M_signature_doc[x, docid] for x in range(NUM_PERMUTATIONS)]\n",
    "\n",
    "def print_sig(messages, M_ngram_doc, M_signature_doc, i):\n",
    "    print(\"Document #%d\" % i)\n",
    "    print(\"Message       : %s\" % messages[i])\n",
    "    print(\"Clean message : %s\" % clean(messages[i]))\n",
    "    print(\"Ngrams        : %s\" % extract_ngrams(i))\n",
    "    print(\"Signature     : %s\" % extract_signature(i))\n",
    "\n",
    "        \n",
    "i = 385\n",
    "j = 627\n",
    "\n",
    "print_sig(messages, M_ngram_doc, M_signature_doc, i )\n",
    "\n",
    "print()\n",
    "\n",
    "print_sig(messages, M_ngram_doc, M_signature_doc, j )"
   ]
  },
  {
   "cell_type": "markdown",
   "metadata": {},
   "source": [
    "# 5. Compare all pairs of signatures"
   ]
  },
  {
   "cell_type": "code",
   "execution_count": 38,
   "metadata": {},
   "outputs": [],
   "source": [
    "def compare_signatures(messages):    \n",
    "    is_possible_duplicate = {}\n",
    "    nduplicates = 0\n",
    "    # Iterate through all documents\n",
    "    for docid1 in range(len(messages)):\n",
    "\n",
    "         # Do not examine again a document that is a possible duplicate\n",
    "        if docid not in is_possible_duplicate:\n",
    "\n",
    "            # Counters for full and partial signature matches\n",
    "            count_sig_full_matches = 0\n",
    "            count_sig_partial_matches = 0\n",
    "\n",
    "            # Extract the signature of the doc1\n",
    "            signature1 = extract_signature(docid1)\n",
    "            if docid1 % 500 == 0:\n",
    "                print(\"%d/%d documents scanned\" % (docid1, len(messages)))\n",
    "\n",
    "            # Iterate through documents with docid larger than doc1\n",
    "            for docid2 in range(docid1+1, len(messages)):\n",
    "\n",
    "                # If this has not already been marked as duplicate of another document\n",
    "                if docid2 not in is_possible_duplicate:\n",
    "\n",
    "                    # Extract signature of doc2\n",
    "                    signature2 = extract_signature(docid2)\n",
    "\n",
    "                    # REPLACE THIS COMMENT WITH YOUR CODE:\n",
    "                    # - Increase count_sig_full_matches and count_sig_partial_matches as needed\n",
    "                    # - Include docid2 in is_possible_duplicate if needed\n",
    "                    jaccard_coeff = jaccard_similarity(signature1,signature2) # Computes the coefficient between the signatures\n",
    "                    if(jaccard_coeff == 1.0): # Full Matches\n",
    "                        count_sig_full_matches += 1\n",
    "                        is_possible_duplicate[docid2] = signature2 # Adds the signature as possible duplicate\n",
    "                    elif(jaccard_coeff > 0.2 and jaccard_coeff < 1.0): # Partial matches\n",
    "                        count_sig_partial_matches +=1 \n",
    "                        is_possible_duplicate[docid2] = signature2 \n",
    "\n",
    "            # REPLACE THIS COMMENT WITH YOUR CODE\n",
    "            # - If the number of partial matches plus full matches exceeds a threshold\n",
    "            #   print the document doc1 and indicate how many matches of each type it has\n",
    "            threshold = 50\n",
    "\n",
    "            if(count_sig_full_matches+count_sig_partial_matches)>= threshold: # Checks if the threshold is reached\n",
    "                nduplicates += 1\n",
    "                print((\"Doc {}: {} \\nHas {} full matches and {} partial matches\\n\").format(docid1,messages[docid1],count_sig_full_matches,count_sig_partial_matches))\n",
    "    print((\"\\n\\nThe number of duplicates is {} ({}%)\").format(nduplicates,round((nduplicates/len(messages))*100,2)))\n",
    "    return nduplicates"
   ]
  },
  {
   "cell_type": "code",
   "execution_count": 39,
   "metadata": {
    "scrolled": true
   },
   "outputs": [
    {
     "name": "stdout",
     "output_type": "stream",
     "text": [
      "0/10000 documents scanned\n",
      "Doc 16: RT @emergenciescat: ⚠️ Es demana a la ciutadania limitar al màxim i, si es pot, EVITAR DESPLAÇAMENTS de cap de setmana. Tot el que sigui ma… \n",
      "Has 71 full matches and 19 partial matches\n",
      "\n",
      "Doc 53: RT @Oriol_Pintos: Sóc advocat laboralista. Davant aquesta situació d'incertesa jurídica generalitzada pel #Coronavirus que afecta i afectar… \n",
      "Has 57 full matches and 0 partial matches\n",
      "\n",
      "Doc 166: RT @yeyaboya: Les imatges de cues de cotxes sortint de Madrid són demencials. Quina irresponsabilitat. Quina mala gestió #COVID19 \n",
      "Has 56 full matches and 0 partial matches\n",
      "\n",
      "Doc 328: RT @QuimTorraiPla: Estem preparats per fer-ho. Cal que l’Estat accedeixi a aturar entrades i sortides als ports, aeroports i vies ferroviàr… \n",
      "Has 65 full matches and 0 partial matches\n",
      "\n",
      "500/10000 documents scanned\n",
      "1000/10000 documents scanned\n",
      "1500/10000 documents scanned\n",
      "2000/10000 documents scanned\n",
      "2500/10000 documents scanned\n",
      "3000/10000 documents scanned\n",
      "3500/10000 documents scanned\n",
      "4000/10000 documents scanned\n",
      "4500/10000 documents scanned\n",
      "5000/10000 documents scanned\n",
      "Doc 5077: RT @emergenciescat: Què puc fer i que no? FAQs del #coronavirus a 14 de març. si us plau, demanem difusió. https://t.co/D5HNxwYjwK \n",
      "Has 176 full matches and 0 partial matches\n",
      "\n",
      "Doc 5109: RT @CarlesHeredia: ⚠️ Namíbia, un país amb un sistema sanitari molt dèbil, anuncia els 2 primers casos de #coronavirus.\n",
      "\n",
      "Són 2 turistes esp… \n",
      "Has 66 full matches and 0 partial matches\n",
      "\n",
      "Doc 5117: RT @QuimTorraiPla: He trucat el Lehendakari Urkullu per valorar l'avenç de la pandèmia del coronavirus i la resposta que cal donar-hi. Coin… \n",
      "Has 71 full matches and 0 partial matches\n",
      "\n",
      "Doc 5129: RT @epaluzie: Una vergonya. 155 a Interior, Sanitat, Transports. Els qui no han fet el que calia quan tocava, ara a donar ordres perquè \"no… \n",
      "Has 54 full matches and 0 partial matches\n",
      "\n",
      "Doc 5271: RT @QuimTorraiPla: Màxima difusió - i seguiment- a les recomanacions d’ @emergenciescat : \n",
      "Has 54 full matches and 0 partial matches\n",
      "\n",
      "\n",
      "\n",
      "The number of duplicates is 9 (0.09%)\n"
     ]
    },
    {
     "data": {
      "text/plain": [
       "9"
      ]
     },
     "execution_count": 39,
     "metadata": {},
     "output_type": "execute_result"
    }
   ],
   "source": [
    "compare_signatures(messages)    "
   ]
  },
  {
   "cell_type": "code",
   "execution_count": 36,
   "metadata": {
    "scrolled": true
   },
   "outputs": [
    {
     "data": {
      "text/plain": [
       "'RT @emergenciescat: Què puc fer i que no? FAQs del #coronavirus a 14 de març. si us plau, demanem difusió. https://t.co/D5HNxwYjwK'"
      ]
     },
     "execution_count": 36,
     "metadata": {},
     "output_type": "execute_result"
    }
   ],
   "source": [
    "messages[5077]"
   ]
  },
  {
   "cell_type": "markdown",
   "metadata": {},
   "source": [
    "<font size=\"+1\" >The tweet of above has 176 full matches and 0 partial matches with the current permutation. It means that the signature of this tweet is exactly the same as 176 more tweets it may indicate that people really think that the tweet in question is really interesting or goes to the main point of the topic, in this case the tweet is about the FAQs of the covid so this makes sense. </font>"
   ]
  },
  {
   "cell_type": "markdown",
   "metadata": {},
   "source": [
    "<font size=\"+1\" >I cannot found any tweet with more partial matches than complete matches, it may be a code error or a signature error. Although, a tweet with partial matches indicates that the signature has between 20% and less than 100% equal. It is possible that those tweets are referred to a trending topic or usual topic that people is interested in that moment such as covid. </font>"
   ]
  },
  {
   "cell_type": "markdown",
   "metadata": {},
   "source": [
    "# EXTRA"
   ]
  },
  {
   "cell_type": "code",
   "execution_count": 27,
   "metadata": {},
   "outputs": [],
   "source": [
    "def search_duplicates_ngrams(NGRAM_SIZE,NUM_PERMUTATIONS,messages):\n",
    "    ngram_to_index = {}\n",
    "    index_to_ngram = {}\n",
    "    next_index = 0\n",
    "\n",
    "    for message in messages:\n",
    "        all_ngrams = ngrams(message, NGRAM_SIZE)\n",
    "        for ngram in all_ngrams:\n",
    "            if(ngram not in ngram_to_index):\n",
    "                ngram_to_index[ngram] = next_index\n",
    "                index_to_ngram[next_index] = ngram\n",
    "                next_index += 1\n",
    "\n",
    "    num_distinct_ngrams = next_index\n",
    "\n",
    "    # Create dense matrix in which every cell contains the value \"False\"\n",
    "    M_ngram_doc = np.full((num_distinct_ngrams, len(messages)), False)\n",
    "\n",
    "    # Print the number of rows and columns of this matrix\n",
    "    # numpy.matrix.shape is a tuple, shape[0] is the number of rows, shape[1] the number of columns\n",
    "    print(\"Matrix dimensions: %d rows (distinct shingles) x %d columns (distinct documents)\" % M_ngram_doc.shape)\n",
    "\n",
    "    for docid in range(len(messages)):\n",
    "        message = messages[docid]\n",
    "        all_ngrams = ngrams(message, NGRAM_SIZE)\n",
    "        for ngram in all_ngrams:\n",
    "            if(ngram in ngram_to_index):\n",
    "                ngram_id = ngram_to_index[ngram]\n",
    "                M_ngram_doc[ngram_id][docid] = True\n",
    "            else:\n",
    "                M_ngram_doc[ngram_id][docid] = False\n",
    "\n",
    "    permutations = []\n",
    "\n",
    "    # Create the permutations\n",
    "    for i in range(NUM_PERMUTATIONS):\n",
    "        permutation = random_permutation(num_distinct_ngrams)\n",
    "        permutations.append(random_permutation(num_distinct_ngrams))\n",
    "\n",
    "    # Visualize the permutations by printing their first 3 elements\n",
    "    for i in range(len(permutations)):\n",
    "        permutation = permutations[i]\n",
    "\n",
    "    M_signature_doc = np.full((NUM_PERMUTATIONS, len(messages)), np.nan)\n",
    "\n",
    "    # Create permutations\n",
    "    for permutation_num in range(NUM_PERMUTATIONS):\n",
    "        print(\"Creating signatures for permutation %d/%d\" % (permutation_num+1, NUM_PERMUTATIONS))\n",
    "        permutation = permutations[permutation_num]\n",
    "        for docid in range(len(messages)):\n",
    "            for shingle_id in permutation:\n",
    "                if M_ngram_doc[shingle_id, docid] == True: # If the shingle is in the message (M_ngram_doc == true) we return the shingle id\n",
    "                    M_signature_doc[permutation_num,docid] = int(shingle_id)\n",
    "                    break\n",
    "           \n",
    "    \n",
    "    # Compare signatures\n",
    "    nduplicates = compare_signatures(messages)  \n",
    "    return nduplicates\n"
   ]
  },
  {
   "cell_type": "code",
   "execution_count": 28,
   "metadata": {},
   "outputs": [
    {
     "name": "stdout",
     "output_type": "stream",
     "text": [
      "                      2-GRAMS\n",
      "\n",
      "Matrix dimensions: 49955 rows (distinct shingles) x 10000 columns (distinct documents)\n",
      "Creating signatures for permutation 1/5\n",
      "Creating signatures for permutation 2/5\n",
      "Creating signatures for permutation 3/5\n",
      "Creating signatures for permutation 4/5\n",
      "Creating signatures for permutation 5/5\n",
      "0/10000 documents scanned\n",
      "Doc 16: RT @emergenciescat: ⚠️ Es demana a la ciutadania limitar al màxim i, si es pot, EVITAR DESPLAÇAMENTS de cap de setmana. Tot el que sigui ma… \n",
      "Has 71 full matches and 19 partial matches\n",
      "\n",
      "Doc 42: RT @VilaWeb: Els @mossos diuen que és més senzill confinar el Principat que diverses ciutats a la vegada https://t.co/piyLz82e9d \n",
      "Has 46 full matches and 6 partial matches\n",
      "\n",
      "Doc 53: RT @Oriol_Pintos: Sóc advocat laboralista. Davant aquesta situació d'incertesa jurídica generalitzada pel #Coronavirus que afecta i afectar… \n",
      "Has 57 full matches and 0 partial matches\n",
      "\n",
      "Doc 166: RT @yeyaboya: Les imatges de cues de cotxes sortint de Madrid són demencials. Quina irresponsabilitat. Quina mala gestió #COVID19 \n",
      "Has 56 full matches and 0 partial matches\n",
      "\n",
      "Doc 328: RT @QuimTorraiPla: Estem preparats per fer-ho. Cal que l’Estat accedeixi a aturar entrades i sortides als ports, aeroports i vies ferroviàr… \n",
      "Has 65 full matches and 0 partial matches\n",
      "\n",
      "500/10000 documents scanned\n",
      "1000/10000 documents scanned\n",
      "1500/10000 documents scanned\n",
      "2000/10000 documents scanned\n",
      "2500/10000 documents scanned\n",
      "3000/10000 documents scanned\n",
      "3500/10000 documents scanned\n",
      "4000/10000 documents scanned\n",
      "4500/10000 documents scanned\n",
      "5000/10000 documents scanned\n",
      "Doc 5077: RT @emergenciescat: Què puc fer i que no? FAQs del #coronavirus a 14 de març. si us plau, demanem difusió. https://t.co/D5HNxwYjwK \n",
      "Has 176 full matches and 0 partial matches\n",
      "\n",
      "Doc 5109: RT @CarlesHeredia: ⚠️ Namíbia, un país amb un sistema sanitari molt dèbil, anuncia els 2 primers casos de #coronavirus.\n",
      "\n",
      "Són 2 turistes esp… \n",
      "Has 66 full matches and 0 partial matches\n",
      "\n",
      "Doc 5117: RT @QuimTorraiPla: He trucat el Lehendakari Urkullu per valorar l'avenç de la pandèmia del coronavirus i la resposta que cal donar-hi. Coin… \n",
      "Has 71 full matches and 0 partial matches\n",
      "\n",
      "Doc 5129: RT @epaluzie: Una vergonya. 155 a Interior, Sanitat, Transports. Els qui no han fet el que calia quan tocava, ara a donar ordres perquè \"no… \n",
      "Has 54 full matches and 0 partial matches\n",
      "\n",
      "Doc 5271: RT @QuimTorraiPla: Màxima difusió - i seguiment- a les recomanacions d’ @emergenciescat : \n",
      "Has 54 full matches and 0 partial matches\n",
      "\n",
      "\n",
      "\n",
      "The number of duplicates is 10 (0.1%)\n",
      "10\n",
      "                      3-GRAMS\n",
      "\n",
      "Matrix dimensions: 67090 rows (distinct shingles) x 10000 columns (distinct documents)\n",
      "Creating signatures for permutation 1/5\n",
      "Creating signatures for permutation 2/5\n",
      "Creating signatures for permutation 3/5\n",
      "Creating signatures for permutation 4/5\n",
      "Creating signatures for permutation 5/5\n",
      "0/10000 documents scanned\n",
      "Doc 16: RT @emergenciescat: ⚠️ Es demana a la ciutadania limitar al màxim i, si es pot, EVITAR DESPLAÇAMENTS de cap de setmana. Tot el que sigui ma… \n",
      "Has 71 full matches and 19 partial matches\n",
      "\n",
      "Doc 42: RT @VilaWeb: Els @mossos diuen que és més senzill confinar el Principat que diverses ciutats a la vegada https://t.co/piyLz82e9d \n",
      "Has 46 full matches and 6 partial matches\n",
      "\n",
      "Doc 53: RT @Oriol_Pintos: Sóc advocat laboralista. Davant aquesta situació d'incertesa jurídica generalitzada pel #Coronavirus que afecta i afectar… \n",
      "Has 57 full matches and 0 partial matches\n",
      "\n",
      "Doc 166: RT @yeyaboya: Les imatges de cues de cotxes sortint de Madrid són demencials. Quina irresponsabilitat. Quina mala gestió #COVID19 \n",
      "Has 56 full matches and 0 partial matches\n",
      "\n",
      "Doc 328: RT @QuimTorraiPla: Estem preparats per fer-ho. Cal que l’Estat accedeixi a aturar entrades i sortides als ports, aeroports i vies ferroviàr… \n",
      "Has 65 full matches and 0 partial matches\n",
      "\n",
      "500/10000 documents scanned\n",
      "1000/10000 documents scanned\n",
      "1500/10000 documents scanned\n",
      "2000/10000 documents scanned\n",
      "2500/10000 documents scanned\n",
      "3000/10000 documents scanned\n",
      "3500/10000 documents scanned\n",
      "4000/10000 documents scanned\n",
      "4500/10000 documents scanned\n",
      "5000/10000 documents scanned\n",
      "Doc 5077: RT @emergenciescat: Què puc fer i que no? FAQs del #coronavirus a 14 de març. si us plau, demanem difusió. https://t.co/D5HNxwYjwK \n",
      "Has 176 full matches and 0 partial matches\n",
      "\n",
      "Doc 5109: RT @CarlesHeredia: ⚠️ Namíbia, un país amb un sistema sanitari molt dèbil, anuncia els 2 primers casos de #coronavirus.\n",
      "\n",
      "Són 2 turistes esp… \n",
      "Has 66 full matches and 0 partial matches\n",
      "\n",
      "Doc 5117: RT @QuimTorraiPla: He trucat el Lehendakari Urkullu per valorar l'avenç de la pandèmia del coronavirus i la resposta que cal donar-hi. Coin… \n",
      "Has 71 full matches and 0 partial matches\n",
      "\n",
      "Doc 5129: RT @epaluzie: Una vergonya. 155 a Interior, Sanitat, Transports. Els qui no han fet el que calia quan tocava, ara a donar ordres perquè \"no… \n",
      "Has 54 full matches and 0 partial matches\n",
      "\n",
      "Doc 5271: RT @QuimTorraiPla: Màxima difusió - i seguiment- a les recomanacions d’ @emergenciescat : \n",
      "Has 54 full matches and 0 partial matches\n",
      "\n",
      "\n",
      "\n",
      "The number of duplicates is 10 (0.1%)\n",
      "10\n",
      "                      4-GRAMS\n",
      "\n",
      "Matrix dimensions: 69574 rows (distinct shingles) x 10000 columns (distinct documents)\n",
      "Creating signatures for permutation 1/5\n",
      "Creating signatures for permutation 2/5\n",
      "Creating signatures for permutation 3/5\n",
      "Creating signatures for permutation 4/5\n",
      "Creating signatures for permutation 5/5\n",
      "0/10000 documents scanned\n",
      "Doc 16: RT @emergenciescat: ⚠️ Es demana a la ciutadania limitar al màxim i, si es pot, EVITAR DESPLAÇAMENTS de cap de setmana. Tot el que sigui ma… \n",
      "Has 71 full matches and 19 partial matches\n",
      "\n",
      "Doc 42: RT @VilaWeb: Els @mossos diuen que és més senzill confinar el Principat que diverses ciutats a la vegada https://t.co/piyLz82e9d \n",
      "Has 46 full matches and 6 partial matches\n",
      "\n",
      "Doc 53: RT @Oriol_Pintos: Sóc advocat laboralista. Davant aquesta situació d'incertesa jurídica generalitzada pel #Coronavirus que afecta i afectar… \n",
      "Has 57 full matches and 0 partial matches\n",
      "\n",
      "Doc 166: RT @yeyaboya: Les imatges de cues de cotxes sortint de Madrid són demencials. Quina irresponsabilitat. Quina mala gestió #COVID19 \n",
      "Has 56 full matches and 0 partial matches\n",
      "\n",
      "Doc 328: RT @QuimTorraiPla: Estem preparats per fer-ho. Cal que l’Estat accedeixi a aturar entrades i sortides als ports, aeroports i vies ferroviàr… \n",
      "Has 65 full matches and 0 partial matches\n",
      "\n",
      "500/10000 documents scanned\n",
      "1000/10000 documents scanned\n",
      "1500/10000 documents scanned\n",
      "2000/10000 documents scanned\n",
      "2500/10000 documents scanned\n",
      "3000/10000 documents scanned\n",
      "3500/10000 documents scanned\n",
      "4000/10000 documents scanned\n",
      "4500/10000 documents scanned\n",
      "5000/10000 documents scanned\n",
      "Doc 5077: RT @emergenciescat: Què puc fer i que no? FAQs del #coronavirus a 14 de març. si us plau, demanem difusió. https://t.co/D5HNxwYjwK \n",
      "Has 176 full matches and 0 partial matches\n",
      "\n",
      "Doc 5109: RT @CarlesHeredia: ⚠️ Namíbia, un país amb un sistema sanitari molt dèbil, anuncia els 2 primers casos de #coronavirus.\n",
      "\n",
      "Són 2 turistes esp… \n",
      "Has 66 full matches and 0 partial matches\n",
      "\n",
      "Doc 5117: RT @QuimTorraiPla: He trucat el Lehendakari Urkullu per valorar l'avenç de la pandèmia del coronavirus i la resposta que cal donar-hi. Coin… \n",
      "Has 71 full matches and 0 partial matches\n",
      "\n",
      "Doc 5129: RT @epaluzie: Una vergonya. 155 a Interior, Sanitat, Transports. Els qui no han fet el que calia quan tocava, ara a donar ordres perquè \"no… \n",
      "Has 54 full matches and 0 partial matches\n",
      "\n",
      "Doc 5271: RT @QuimTorraiPla: Màxima difusió - i seguiment- a les recomanacions d’ @emergenciescat : \n",
      "Has 54 full matches and 0 partial matches\n",
      "\n",
      "\n",
      "\n",
      "The number of duplicates is 10 (0.1%)\n",
      "10\n"
     ]
    }
   ],
   "source": [
    "ngram_sizes = [2,3,4]\n",
    "NUM_PERMUTATIONS = 5\n",
    "nduplicates = []\n",
    "for NGRAM_SIZE in ngram_sizes:\n",
    "    print(\"                      {}-GRAMS\\n\".format(NGRAM_SIZE))\n",
    "    nduplicates.append(search_duplicates_ngrams(NGRAM_SIZE,NUM_PERMUTATIONS,messages))"
   ]
  },
  {
   "cell_type": "code",
   "execution_count": 30,
   "metadata": {},
   "outputs": [
    {
     "name": "stdout",
     "output_type": "stream",
     "text": [
      "The number of duplicates of 2-grams test is: 10(0.1%). \n",
      "\n",
      "The number of duplicates of 3-grams test is: 10(0.1%). \n",
      "\n",
      "The number of duplicates of 4-grams test is: 10(0.1%). \n",
      "\n"
     ]
    }
   ],
   "source": [
    "for i in range(len(ngram_sizes)):\n",
    "    print(\"The number of duplicates of {}-grams test is: {}({}%). \\n\".format(ngram_sizes[i],nduplicates[i],round((nduplicates[i]/len(messages))*100,2)))"
   ]
  },
  {
   "cell_type": "code",
   "execution_count": 31,
   "metadata": {},
   "outputs": [],
   "source": [
    "y_2 = []\n",
    "ngram_size = 2\n",
    "for limit in range(1,2001,150):\n",
    "    y_2.append(time_brute_force_similarities(messages, limit, ngram_size))\n",
    "\n",
    "\n",
    "y_4 = []\n",
    "ngram_size = 4\n",
    "for limit in range(1,2001,150):\n",
    "    y_4.append(time_brute_force_similarities(messages, limit, ngram_size))\n"
   ]
  },
  {
   "cell_type": "code",
   "execution_count": 32,
   "metadata": {},
   "outputs": [
    {
     "data": {
      "image/png": "[encoded data removed]",
      "text/plain": [
       "<Figure size 432x288 with 1 Axes>"
      ]
     },
     "metadata": {
      "needs_background": "light"
     },
     "output_type": "display_data"
    }
   ],
   "source": [
    "plt.plot(x,y_2,label ='2-grams')\n",
    "plt.plot(x,y,label ='3-grams')\n",
    "plt.plot(x,y_4,label ='4-grams')\n",
    "plt.legend()\n",
    "plt.xlabel(xlabel='Limit of messages')\n",
    "plt.ylabel(ylabel='Estimated time (s)')\n",
    "plt.title(\"Estimated time for x messages\", fontsize = 13.0)\n",
    "plt.show()"
   ]
  },
  {
   "cell_type": "markdown",
   "metadata": {},
   "source": [
    "<font size=\"+1\">As we can see in the plot, the efficiency between different ngrams is very similar, we can see that 2-grams is slightly faster than 3 and 4 but it is not a big variation. In terms of effectiveness and accuracy are also very similar with the same duplicate detection percentage. </font>"
   ]
  },
  {
   "cell_type": "markdown",
   "metadata": {},
   "source": [
    "<font size=\"+2\" color=\"#003300\">I hereby declare that, except for the code provided by the course instructors, all of my code, report, and figures were produced by myself.</font>"
   ]
  }
 ],
 "metadata": {
  "kernelspec": {
   "display_name": "Python 3",
   "language": "python",
   "name": "python3"
  },
  "language_info": {
   "codemirror_mode": {
    "name": "ipython",
    "version": 3
   },
   "file_extension": ".py",
   "mimetype": "text/x-python",
   "name": "python",
   "nbconvert_exporter": "python",
   "pygments_lexer": "ipython3",
   "version": "3.8.8"
  }
 },
 "nbformat": 4,
 "nbformat_minor": 2
}
